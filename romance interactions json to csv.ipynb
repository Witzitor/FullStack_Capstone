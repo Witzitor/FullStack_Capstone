{
 "cells": [
  {
   "cell_type": "code",
   "execution_count": 1,
   "id": "f3516e30-ec75-4129-ab1f-3e7d002a39fc",
   "metadata": {},
   "outputs": [],
   "source": [
    "import pandas as pd\n",
    "import matplotlib.pyplot as plt\n",
    "import datetime as dt\n",
    "from datetime import datetime, timedelta, date\n",
    "import numpy as np\n",
    "import warnings\n",
    "warnings.filterwarnings('ignore')\n",
    "import sqlite3\n"
   ]
  },
  {
   "cell_type": "code",
   "execution_count": 2,
   "id": "2883f489-a577-4034-878d-57000e3fd395",
   "metadata": {
    "scrolled": true
   },
   "outputs": [
    {
     "name": "stdout",
     "output_type": "stream",
     "text": [
      "Requirement already satisfied: dask in /opt/anaconda3/lib/python3.13/site-packages (2025.2.0)\n",
      "Requirement already satisfied: click>=8.1 in /opt/anaconda3/lib/python3.13/site-packages (from dask) (8.1.8)\n",
      "Requirement already satisfied: cloudpickle>=3.0.0 in /opt/anaconda3/lib/python3.13/site-packages (from dask) (3.0.0)\n",
      "Requirement already satisfied: fsspec>=2021.09.0 in /opt/anaconda3/lib/python3.13/site-packages (from dask) (2025.3.2)\n",
      "Requirement already satisfied: packaging>=20.0 in /opt/anaconda3/lib/python3.13/site-packages (from dask) (24.2)\n",
      "Requirement already satisfied: partd>=1.4.0 in /opt/anaconda3/lib/python3.13/site-packages (from dask) (1.4.2)\n",
      "Requirement already satisfied: pyyaml>=5.3.1 in /opt/anaconda3/lib/python3.13/site-packages (from dask) (6.0.2)\n",
      "Requirement already satisfied: toolz>=0.10.0 in /opt/anaconda3/lib/python3.13/site-packages (from dask) (1.0.0)\n",
      "Requirement already satisfied: locket in /opt/anaconda3/lib/python3.13/site-packages (from partd>=1.4.0->dask) (1.0.0)\n",
      "Note: you may need to restart the kernel to use updated packages.\n"
     ]
    }
   ],
   "source": [
    "pip install dask"
   ]
  },
  {
   "cell_type": "code",
   "execution_count": 3,
   "id": "ecf35bc4-21e3-4fa1-a763-6a624dad382b",
   "metadata": {},
   "outputs": [],
   "source": [
    "import dask.bag as db\n",
    "import json\n",
    "import dask.dataframe as dd"
   ]
  },
  {
   "cell_type": "code",
   "execution_count": 4,
   "id": "5a9338a1-1c0f-4515-bb09-ab39f599f7a7",
   "metadata": {
    "scrolled": true
   },
   "outputs": [
    {
     "name": "stdout",
     "output_type": "stream",
     "text": [
      "({'user_id': '8842281e1d1347389f2ab93d60773d4d', 'book_id': '5526', 'review_id': 'c2b5f16df9f9c716617c07326b4f2869', 'is_read': False, 'rating': 0, 'review_text_incomplete': '', 'date_added': 'Wed Mar 29 00:27:40 -0700 2017', 'date_updated': 'Wed Mar 29 00:27:40 -0700 2017', 'read_at': '', 'started_at': ''}, {'user_id': '8842281e1d1347389f2ab93d60773d4d', 'book_id': '18633693', 'review_id': '611eea84ef983e27884953b8e45b55aa', 'is_read': False, 'rating': 0, 'review_text_incomplete': '', 'date_added': 'Tue Mar 28 21:01:27 -0700 2017', 'date_updated': 'Tue Mar 28 21:01:27 -0700 2017', 'read_at': '', 'started_at': ''}, {'user_id': '8842281e1d1347389f2ab93d60773d4d', 'book_id': '22055137', 'review_id': '9f149f1a24f51b01aed5b7e465134027', 'is_read': False, 'rating': 0, 'review_text_incomplete': '', 'date_added': 'Tue Mar 28 00:02:48 -0700 2017', 'date_updated': 'Tue Mar 28 00:02:49 -0700 2017', 'read_at': '', 'started_at': ''})\n"
     ]
    }
   ],
   "source": [
    "json_bag = db.read_text('goodreads_interactions_romance.json').map(json.loads)\n",
    "print(json_bag.take(3))"
   ]
  },
  {
   "cell_type": "code",
   "execution_count": 5,
   "id": "a2f4d50e-cc93-49fd-9209-e9cd18444851",
   "metadata": {},
   "outputs": [],
   "source": [
    "df5 = json_bag.to_dataframe()"
   ]
  },
  {
   "cell_type": "code",
   "execution_count": 6,
   "id": "bfaf1de2-0158-4d0d-b31a-e7348f273d48",
   "metadata": {},
   "outputs": [],
   "source": [
    "df5 = df5.compute()"
   ]
  },
  {
   "cell_type": "code",
   "execution_count": 7,
   "id": "3d7c7ec3-af36-4da4-91c7-6c84d88e836e",
   "metadata": {},
   "outputs": [
    {
     "name": "stdout",
     "output_type": "stream",
     "text": [
      "<class 'pandas.core.frame.DataFrame'>\n",
      "RangeIndex: 42792856 entries, 0 to 42792855\n",
      "Data columns (total 10 columns):\n",
      " #   Column                  Dtype \n",
      "---  ------                  ----- \n",
      " 0   user_id                 object\n",
      " 1   book_id                 object\n",
      " 2   review_id               object\n",
      " 3   is_read                 bool  \n",
      " 4   rating                  int64 \n",
      " 5   review_text_incomplete  object\n",
      " 6   date_added              object\n",
      " 7   date_updated            object\n",
      " 8   read_at                 object\n",
      " 9   started_at              object\n",
      "dtypes: bool(1), int64(1), object(8)\n",
      "memory usage: 2.9+ GB\n"
     ]
    }
   ],
   "source": [
    "df5.info()"
   ]
  },
  {
   "cell_type": "code",
   "execution_count": 8,
   "id": "9af2ca20-cd0e-406c-9595-795004897034",
   "metadata": {},
   "outputs": [
    {
     "data": {
      "text/html": [
       "<div>\n",
       "<style scoped>\n",
       "    .dataframe tbody tr th:only-of-type {\n",
       "        vertical-align: middle;\n",
       "    }\n",
       "\n",
       "    .dataframe tbody tr th {\n",
       "        vertical-align: top;\n",
       "    }\n",
       "\n",
       "    .dataframe thead th {\n",
       "        text-align: right;\n",
       "    }\n",
       "</style>\n",
       "<table border=\"1\" class=\"dataframe\">\n",
       "  <thead>\n",
       "    <tr style=\"text-align: right;\">\n",
       "      <th></th>\n",
       "      <th>user_id</th>\n",
       "      <th>book_id</th>\n",
       "      <th>review_id</th>\n",
       "      <th>is_read</th>\n",
       "      <th>rating</th>\n",
       "      <th>review_text_incomplete</th>\n",
       "      <th>date_added</th>\n",
       "      <th>date_updated</th>\n",
       "      <th>read_at</th>\n",
       "      <th>started_at</th>\n",
       "    </tr>\n",
       "  </thead>\n",
       "  <tbody>\n",
       "    <tr>\n",
       "      <th>0</th>\n",
       "      <td>8842281e1d1347389f2ab93d60773d4d</td>\n",
       "      <td>5526</td>\n",
       "      <td>c2b5f16df9f9c716617c07326b4f2869</td>\n",
       "      <td>False</td>\n",
       "      <td>0</td>\n",
       "      <td></td>\n",
       "      <td>Wed Mar 29 00:27:40 -0700 2017</td>\n",
       "      <td>Wed Mar 29 00:27:40 -0700 2017</td>\n",
       "      <td></td>\n",
       "      <td></td>\n",
       "    </tr>\n",
       "    <tr>\n",
       "      <th>1</th>\n",
       "      <td>8842281e1d1347389f2ab93d60773d4d</td>\n",
       "      <td>18633693</td>\n",
       "      <td>611eea84ef983e27884953b8e45b55aa</td>\n",
       "      <td>False</td>\n",
       "      <td>0</td>\n",
       "      <td></td>\n",
       "      <td>Tue Mar 28 21:01:27 -0700 2017</td>\n",
       "      <td>Tue Mar 28 21:01:27 -0700 2017</td>\n",
       "      <td></td>\n",
       "      <td></td>\n",
       "    </tr>\n",
       "    <tr>\n",
       "      <th>2</th>\n",
       "      <td>8842281e1d1347389f2ab93d60773d4d</td>\n",
       "      <td>22055137</td>\n",
       "      <td>9f149f1a24f51b01aed5b7e465134027</td>\n",
       "      <td>False</td>\n",
       "      <td>0</td>\n",
       "      <td></td>\n",
       "      <td>Tue Mar 28 00:02:48 -0700 2017</td>\n",
       "      <td>Tue Mar 28 00:02:49 -0700 2017</td>\n",
       "      <td></td>\n",
       "      <td></td>\n",
       "    </tr>\n",
       "    <tr>\n",
       "      <th>3</th>\n",
       "      <td>8842281e1d1347389f2ab93d60773d4d</td>\n",
       "      <td>23677430</td>\n",
       "      <td>2580d955cfa3a14d0ba0de08efec5812</td>\n",
       "      <td>False</td>\n",
       "      <td>0</td>\n",
       "      <td></td>\n",
       "      <td>Mon Mar 27 22:40:46 -0700 2017</td>\n",
       "      <td>Mon Mar 27 22:40:47 -0700 2017</td>\n",
       "      <td></td>\n",
       "      <td></td>\n",
       "    </tr>\n",
       "    <tr>\n",
       "      <th>4</th>\n",
       "      <td>8842281e1d1347389f2ab93d60773d4d</td>\n",
       "      <td>23002924</td>\n",
       "      <td>d667682ff9ae2b71b1657570a16c4a73</td>\n",
       "      <td>False</td>\n",
       "      <td>0</td>\n",
       "      <td></td>\n",
       "      <td>Mon Mar 27 22:01:41 -0700 2017</td>\n",
       "      <td>Mon Mar 27 22:01:41 -0700 2017</td>\n",
       "      <td></td>\n",
       "      <td></td>\n",
       "    </tr>\n",
       "  </tbody>\n",
       "</table>\n",
       "</div>"
      ],
      "text/plain": [
       "                            user_id   book_id  \\\n",
       "0  8842281e1d1347389f2ab93d60773d4d      5526   \n",
       "1  8842281e1d1347389f2ab93d60773d4d  18633693   \n",
       "2  8842281e1d1347389f2ab93d60773d4d  22055137   \n",
       "3  8842281e1d1347389f2ab93d60773d4d  23677430   \n",
       "4  8842281e1d1347389f2ab93d60773d4d  23002924   \n",
       "\n",
       "                          review_id  is_read  rating review_text_incomplete  \\\n",
       "0  c2b5f16df9f9c716617c07326b4f2869    False       0                          \n",
       "1  611eea84ef983e27884953b8e45b55aa    False       0                          \n",
       "2  9f149f1a24f51b01aed5b7e465134027    False       0                          \n",
       "3  2580d955cfa3a14d0ba0de08efec5812    False       0                          \n",
       "4  d667682ff9ae2b71b1657570a16c4a73    False       0                          \n",
       "\n",
       "                       date_added                    date_updated read_at  \\\n",
       "0  Wed Mar 29 00:27:40 -0700 2017  Wed Mar 29 00:27:40 -0700 2017           \n",
       "1  Tue Mar 28 21:01:27 -0700 2017  Tue Mar 28 21:01:27 -0700 2017           \n",
       "2  Tue Mar 28 00:02:48 -0700 2017  Tue Mar 28 00:02:49 -0700 2017           \n",
       "3  Mon Mar 27 22:40:46 -0700 2017  Mon Mar 27 22:40:47 -0700 2017           \n",
       "4  Mon Mar 27 22:01:41 -0700 2017  Mon Mar 27 22:01:41 -0700 2017           \n",
       "\n",
       "  started_at  \n",
       "0             \n",
       "1             \n",
       "2             \n",
       "3             \n",
       "4             "
      ]
     },
     "execution_count": 8,
     "metadata": {},
     "output_type": "execute_result"
    }
   ],
   "source": [
    "df5.head()"
   ]
  },
  {
   "cell_type": "code",
   "execution_count": 9,
   "id": "40b296c6-a226-448b-bc7c-9e8876bf3a1e",
   "metadata": {},
   "outputs": [],
   "source": [
    "df5.to_csv('goodreads_rominteractions.csv')"
   ]
  },
  {
   "cell_type": "code",
   "execution_count": 11,
   "id": "139f566d-a66f-4fe0-8683-85e1f100ffae",
   "metadata": {},
   "outputs": [
    {
     "data": {
      "text/plain": [
       "(42792856, 10)"
      ]
     },
     "execution_count": 11,
     "metadata": {},
     "output_type": "execute_result"
    }
   ],
   "source": [
    "df5.shape"
   ]
  },
  {
   "cell_type": "code",
   "execution_count": 12,
   "id": "60eefdfa-e7a1-4d2f-92cd-874644f7a331",
   "metadata": {},
   "outputs": [
    {
     "data": {
      "text/html": [
       "<div>\n",
       "<style scoped>\n",
       "    .dataframe tbody tr th:only-of-type {\n",
       "        vertical-align: middle;\n",
       "    }\n",
       "\n",
       "    .dataframe tbody tr th {\n",
       "        vertical-align: top;\n",
       "    }\n",
       "\n",
       "    .dataframe thead th {\n",
       "        text-align: right;\n",
       "    }\n",
       "</style>\n",
       "<table border=\"1\" class=\"dataframe\">\n",
       "  <thead>\n",
       "    <tr style=\"text-align: right;\">\n",
       "      <th></th>\n",
       "      <th>user_id</th>\n",
       "      <th>book_id</th>\n",
       "      <th>review_id</th>\n",
       "      <th>is_read</th>\n",
       "      <th>rating</th>\n",
       "      <th>review_text_incomplete</th>\n",
       "      <th>date_added</th>\n",
       "      <th>date_updated</th>\n",
       "      <th>read_at</th>\n",
       "      <th>started_at</th>\n",
       "    </tr>\n",
       "  </thead>\n",
       "  <tbody>\n",
       "    <tr>\n",
       "      <th>42792851</th>\n",
       "      <td>594c86711bd7acdaf655d102df52a9cb</td>\n",
       "      <td>20317106</td>\n",
       "      <td>86ec4749669c8d9c20f5df44e496bfae</td>\n",
       "      <td>True</td>\n",
       "      <td>3</td>\n",
       "      <td></td>\n",
       "      <td>Fri Apr 25 05:11:35 -0700 2014</td>\n",
       "      <td>Mon Jan 12 12:15:19 -0800 2015</td>\n",
       "      <td></td>\n",
       "      <td></td>\n",
       "    </tr>\n",
       "    <tr>\n",
       "      <th>42792852</th>\n",
       "      <td>594c86711bd7acdaf655d102df52a9cb</td>\n",
       "      <td>9722217</td>\n",
       "      <td>5e169a9669b40851dc71a772dafabdcd</td>\n",
       "      <td>False</td>\n",
       "      <td>0</td>\n",
       "      <td></td>\n",
       "      <td>Thu May 23 12:54:45 -0700 2013</td>\n",
       "      <td>Thu May 23 12:54:45 -0700 2013</td>\n",
       "      <td></td>\n",
       "      <td></td>\n",
       "    </tr>\n",
       "    <tr>\n",
       "      <th>42792853</th>\n",
       "      <td>594c86711bd7acdaf655d102df52a9cb</td>\n",
       "      <td>3085858</td>\n",
       "      <td>72fa5e06f3fac447acdc64f613de9fe5</td>\n",
       "      <td>True</td>\n",
       "      <td>4</td>\n",
       "      <td></td>\n",
       "      <td>Sat Apr 20 15:27:27 -0700 2013</td>\n",
       "      <td>Sun Apr 21 14:21:29 -0700 2013</td>\n",
       "      <td></td>\n",
       "      <td></td>\n",
       "    </tr>\n",
       "    <tr>\n",
       "      <th>42792854</th>\n",
       "      <td>594c86711bd7acdaf655d102df52a9cb</td>\n",
       "      <td>4747532</td>\n",
       "      <td>dda2cb6efd489a25e538679d251cbcc1</td>\n",
       "      <td>True</td>\n",
       "      <td>4</td>\n",
       "      <td></td>\n",
       "      <td>Sat Apr 20 15:26:09 -0700 2013</td>\n",
       "      <td>Sun Apr 21 14:21:28 -0700 2013</td>\n",
       "      <td></td>\n",
       "      <td></td>\n",
       "    </tr>\n",
       "    <tr>\n",
       "      <th>42792855</th>\n",
       "      <td>594c86711bd7acdaf655d102df52a9cb</td>\n",
       "      <td>16182348</td>\n",
       "      <td>c5b925c7bd6e1efadd6aa2c26bd5ae6a</td>\n",
       "      <td>True</td>\n",
       "      <td>4</td>\n",
       "      <td></td>\n",
       "      <td>Sat Apr 20 15:13:59 -0700 2013</td>\n",
       "      <td>Sun Apr 28 08:56:56 -0700 2013</td>\n",
       "      <td></td>\n",
       "      <td></td>\n",
       "    </tr>\n",
       "  </tbody>\n",
       "</table>\n",
       "</div>"
      ],
      "text/plain": [
       "                                   user_id   book_id  \\\n",
       "42792851  594c86711bd7acdaf655d102df52a9cb  20317106   \n",
       "42792852  594c86711bd7acdaf655d102df52a9cb   9722217   \n",
       "42792853  594c86711bd7acdaf655d102df52a9cb   3085858   \n",
       "42792854  594c86711bd7acdaf655d102df52a9cb   4747532   \n",
       "42792855  594c86711bd7acdaf655d102df52a9cb  16182348   \n",
       "\n",
       "                                 review_id  is_read  rating  \\\n",
       "42792851  86ec4749669c8d9c20f5df44e496bfae     True       3   \n",
       "42792852  5e169a9669b40851dc71a772dafabdcd    False       0   \n",
       "42792853  72fa5e06f3fac447acdc64f613de9fe5     True       4   \n",
       "42792854  dda2cb6efd489a25e538679d251cbcc1     True       4   \n",
       "42792855  c5b925c7bd6e1efadd6aa2c26bd5ae6a     True       4   \n",
       "\n",
       "         review_text_incomplete                      date_added  \\\n",
       "42792851                         Fri Apr 25 05:11:35 -0700 2014   \n",
       "42792852                         Thu May 23 12:54:45 -0700 2013   \n",
       "42792853                         Sat Apr 20 15:27:27 -0700 2013   \n",
       "42792854                         Sat Apr 20 15:26:09 -0700 2013   \n",
       "42792855                         Sat Apr 20 15:13:59 -0700 2013   \n",
       "\n",
       "                            date_updated read_at started_at  \n",
       "42792851  Mon Jan 12 12:15:19 -0800 2015                     \n",
       "42792852  Thu May 23 12:54:45 -0700 2013                     \n",
       "42792853  Sun Apr 21 14:21:29 -0700 2013                     \n",
       "42792854  Sun Apr 21 14:21:28 -0700 2013                     \n",
       "42792855  Sun Apr 28 08:56:56 -0700 2013                     "
      ]
     },
     "execution_count": 12,
     "metadata": {},
     "output_type": "execute_result"
    }
   ],
   "source": [
    "df5.tail()"
   ]
  },
  {
   "cell_type": "code",
   "execution_count": null,
   "id": "3e4e415e-11b1-4e2d-b8ad-66954696a7a5",
   "metadata": {},
   "outputs": [],
   "source": []
  }
 ],
 "metadata": {
  "kernelspec": {
   "display_name": "Python [conda env:base] *",
   "language": "python",
   "name": "conda-base-py"
  },
  "language_info": {
   "codemirror_mode": {
    "name": "ipython",
    "version": 3
   },
   "file_extension": ".py",
   "mimetype": "text/x-python",
   "name": "python",
   "nbconvert_exporter": "python",
   "pygments_lexer": "ipython3",
   "version": "3.13.5"
  }
 },
 "nbformat": 4,
 "nbformat_minor": 5
}
