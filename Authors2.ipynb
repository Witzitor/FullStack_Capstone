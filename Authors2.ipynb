{
 "cells": [
  {
   "cell_type": "markdown",
   "id": "83c76644-17c7-4dd8-ad9b-956a4ac5bc2d",
   "metadata": {},
   "source": [
    "## Converting goodreads_book_authors from json to csv"
   ]
  },
  {
   "cell_type": "code",
   "execution_count": 1,
   "id": "77b3abe2-c378-4740-8fe2-c70be38fd525",
   "metadata": {},
   "outputs": [
    {
     "name": "stdout",
     "output_type": "stream",
     "text": [
      "Requirement already satisfied: dask in /opt/anaconda3/lib/python3.13/site-packages (2025.2.0)\n",
      "Requirement already satisfied: click>=8.1 in /opt/anaconda3/lib/python3.13/site-packages (from dask) (8.1.8)\n",
      "Requirement already satisfied: cloudpickle>=3.0.0 in /opt/anaconda3/lib/python3.13/site-packages (from dask) (3.0.0)\n",
      "Requirement already satisfied: fsspec>=2021.09.0 in /opt/anaconda3/lib/python3.13/site-packages (from dask) (2025.3.2)\n",
      "Requirement already satisfied: packaging>=20.0 in /opt/anaconda3/lib/python3.13/site-packages (from dask) (24.2)\n",
      "Requirement already satisfied: partd>=1.4.0 in /opt/anaconda3/lib/python3.13/site-packages (from dask) (1.4.2)\n",
      "Requirement already satisfied: pyyaml>=5.3.1 in /opt/anaconda3/lib/python3.13/site-packages (from dask) (6.0.2)\n",
      "Requirement already satisfied: toolz>=0.10.0 in /opt/anaconda3/lib/python3.13/site-packages (from dask) (1.0.0)\n",
      "Requirement already satisfied: locket in /opt/anaconda3/lib/python3.13/site-packages (from partd>=1.4.0->dask) (1.0.0)\n",
      "Note: you may need to restart the kernel to use updated packages.\n"
     ]
    }
   ],
   "source": [
    "pip install dask"
   ]
  },
  {
   "cell_type": "code",
   "execution_count": 2,
   "id": "397b12f6-aa06-4f99-bc5d-55358c97353b",
   "metadata": {},
   "outputs": [],
   "source": [
    "import pandas as pd\n",
    "import matplotlib.pyplot as plt\n",
    "import datetime as dt\n",
    "from datetime import datetime, timedelta, date\n",
    "import numpy as np\n",
    "import warnings\n",
    "warnings.filterwarnings('ignore')\n",
    "import sqlite3\n",
    "import dask.bag as db\n",
    "import json\n",
    "import dask.dataframe as dd"
   ]
  },
  {
   "cell_type": "code",
   "execution_count": 3,
   "id": "8b58cd50-218f-406e-a244-fcc1c8e46e08",
   "metadata": {},
   "outputs": [
    {
     "name": "stdout",
     "output_type": "stream",
     "text": [
      "({'average_rating': '3.98', 'author_id': '604031', 'text_reviews_count': '7', 'name': 'Ronald J. Fields', 'ratings_count': '49'}, {'average_rating': '4.08', 'author_id': '626222', 'text_reviews_count': '28716', 'name': 'Anita Diamant', 'ratings_count': '546796'}, {'average_rating': '3.92', 'author_id': '10333', 'text_reviews_count': '5075', 'name': 'Barbara Hambly', 'ratings_count': '122118'})\n"
     ]
    }
   ],
   "source": [
    "json_bag = db.read_text('goodreads_book_authors.json').map(json.loads)\n",
    "print(json_bag.take(3))"
   ]
  },
  {
   "cell_type": "code",
   "execution_count": 4,
   "id": "8ebf1f8c-ff78-4890-b03a-9ef67792c962",
   "metadata": {},
   "outputs": [],
   "source": [
    "authors = json_bag.to_dataframe()"
   ]
  },
  {
   "cell_type": "code",
   "execution_count": 5,
   "id": "674c1bfc-77e7-4bdb-97df-c66fb8c9faca",
   "metadata": {},
   "outputs": [],
   "source": [
    "authors = authors.compute()"
   ]
  },
  {
   "cell_type": "code",
   "execution_count": 6,
   "id": "c77d830a-b488-4a20-a1c5-cf80b425fa11",
   "metadata": {},
   "outputs": [
    {
     "name": "stdout",
     "output_type": "stream",
     "text": [
      "<class 'pandas.core.frame.DataFrame'>\n",
      "RangeIndex: 829529 entries, 0 to 829528\n",
      "Data columns (total 5 columns):\n",
      " #   Column              Non-Null Count   Dtype \n",
      "---  ------              --------------   ----- \n",
      " 0   average_rating      829529 non-null  object\n",
      " 1   author_id           829529 non-null  object\n",
      " 2   text_reviews_count  829529 non-null  object\n",
      " 3   name                829529 non-null  object\n",
      " 4   ratings_count       829529 non-null  object\n",
      "dtypes: object(5)\n",
      "memory usage: 31.6+ MB\n"
     ]
    }
   ],
   "source": [
    "authors.info()"
   ]
  },
  {
   "cell_type": "code",
   "execution_count": 7,
   "id": "8b48d2cf-3033-4d79-854c-98c4b80f1de3",
   "metadata": {},
   "outputs": [
    {
     "data": {
      "text/html": [
       "<div>\n",
       "<style scoped>\n",
       "    .dataframe tbody tr th:only-of-type {\n",
       "        vertical-align: middle;\n",
       "    }\n",
       "\n",
       "    .dataframe tbody tr th {\n",
       "        vertical-align: top;\n",
       "    }\n",
       "\n",
       "    .dataframe thead th {\n",
       "        text-align: right;\n",
       "    }\n",
       "</style>\n",
       "<table border=\"1\" class=\"dataframe\">\n",
       "  <thead>\n",
       "    <tr style=\"text-align: right;\">\n",
       "      <th></th>\n",
       "      <th>average_rating</th>\n",
       "      <th>author_id</th>\n",
       "      <th>text_reviews_count</th>\n",
       "      <th>name</th>\n",
       "      <th>ratings_count</th>\n",
       "    </tr>\n",
       "  </thead>\n",
       "  <tbody>\n",
       "    <tr>\n",
       "      <th>0</th>\n",
       "      <td>3.98</td>\n",
       "      <td>604031</td>\n",
       "      <td>7</td>\n",
       "      <td>Ronald J. Fields</td>\n",
       "      <td>49</td>\n",
       "    </tr>\n",
       "    <tr>\n",
       "      <th>1</th>\n",
       "      <td>4.08</td>\n",
       "      <td>626222</td>\n",
       "      <td>28716</td>\n",
       "      <td>Anita Diamant</td>\n",
       "      <td>546796</td>\n",
       "    </tr>\n",
       "    <tr>\n",
       "      <th>2</th>\n",
       "      <td>3.92</td>\n",
       "      <td>10333</td>\n",
       "      <td>5075</td>\n",
       "      <td>Barbara Hambly</td>\n",
       "      <td>122118</td>\n",
       "    </tr>\n",
       "    <tr>\n",
       "      <th>3</th>\n",
       "      <td>3.68</td>\n",
       "      <td>9212</td>\n",
       "      <td>36262</td>\n",
       "      <td>Jennifer Weiner</td>\n",
       "      <td>888522</td>\n",
       "    </tr>\n",
       "    <tr>\n",
       "      <th>4</th>\n",
       "      <td>3.82</td>\n",
       "      <td>149918</td>\n",
       "      <td>96</td>\n",
       "      <td>Nigel Pennick</td>\n",
       "      <td>1740</td>\n",
       "    </tr>\n",
       "  </tbody>\n",
       "</table>\n",
       "</div>"
      ],
      "text/plain": [
       "  average_rating author_id text_reviews_count              name ratings_count\n",
       "0           3.98    604031                  7  Ronald J. Fields            49\n",
       "1           4.08    626222              28716     Anita Diamant        546796\n",
       "2           3.92     10333               5075    Barbara Hambly        122118\n",
       "3           3.68      9212              36262   Jennifer Weiner        888522\n",
       "4           3.82    149918                 96     Nigel Pennick          1740"
      ]
     },
     "execution_count": 7,
     "metadata": {},
     "output_type": "execute_result"
    }
   ],
   "source": [
    "authors.head()"
   ]
  },
  {
   "cell_type": "code",
   "execution_count": 8,
   "id": "5e36e214-d1ce-4c98-9ac9-171230860d89",
   "metadata": {},
   "outputs": [],
   "source": [
    "authors.to_csv('goodreads_book_authors.csv')"
   ]
  },
  {
   "cell_type": "markdown",
   "id": "5c74792a-86b8-4641-84a5-f30be8c94ad9",
   "metadata": {},
   "source": [
    "## Unnesting the 'Authors\" column in rombook data"
   ]
  },
  {
   "cell_type": "code",
   "execution_count": 9,
   "id": "84ffdb10-f76e-463e-b0d7-0ddcd3ec8ff2",
   "metadata": {},
   "outputs": [
    {
     "name": "stdout",
     "output_type": "stream",
     "text": [
      "({'isbn': '', 'text_reviews_count': '4', 'series': [], 'country_code': 'US', 'language_code': '', 'popular_shelves': [{'count': '4', 'name': 'to-read'}, {'count': '1', 'name': 'ibooks'}, {'count': '1', 'name': 'favorite-authors'}, {'count': '1', 'name': 'may-2017-dr-reads'}, {'count': '1', 'name': 'sports-romance'}, {'count': '1', 'name': 'series-i-like'}, {'count': '1', 'name': 'romance'}, {'count': '1', 'name': 'favorites'}, {'count': '1', 'name': 'f-f'}, {'count': '1', 'name': 'hockey-romance'}, {'count': '1', 'name': 'ebook'}], 'asin': '', 'is_ebook': 'true', 'average_rating': '3.86', 'kindle_asin': '', 'similar_books': [], 'description': \"Secrets. Sometimes keeping them in confidence is a good thing. Other times secrets can slowly allow a woman's soul to rot.\\nWhitney Beaupre has been hiding a big secret for years, one that's beginning to wear her down both on and off the ice. Pretending to be something she's not is exhausting. Wanting to be free but afraid to break out of her prison is terrifying. Seeking love but then hiding from it is crushing to the spirit, yet Whitney feels compelled to keep living the lie. Until the night Hannah Kym appears in her life. Whitney's attraction to Hannah is deep, fierce, and instantaneous. The Temple art major is everything Whitney has dreamed of and more. But those old fears keep clawing at the Venom center, keeping her locked in the closet despite the passion and affection she feels for Hannah.\\nCan love finally break the shackles holding Whitney's heart and soul captive?\", 'format': 'ebook', 'link': 'https://www.goodreads.com/book/show/34883016-playmaker', 'authors': [{'author_id': '5807700', 'role': ''}], 'publisher': 'Gone Writing Publishing', 'num_pages': '', 'publication_day': '3', 'isbn13': '9781370889471', 'publication_month': '5', 'edition_information': '', 'publication_year': '2017', 'url': 'https://www.goodreads.com/book/show/34883016-playmaker', 'image_url': 'https://images.gr-assets.com/books/1493525974m/34883016.jpg', 'book_id': '34883016', 'ratings_count': '5', 'work_id': '56135087', 'title': 'Playmaker: A Venom Series Novella', 'title_without_series': 'Playmaker: A Venom Series Novella'}, {'isbn': '', 'text_reviews_count': '21', 'series': ['811663'], 'country_code': 'US', 'language_code': 'en-US', 'popular_shelves': [{'count': '598', 'name': 'to-read'}, {'count': '28', 'name': 'currently-reading'}, {'count': '14', 'name': 'paranormal'}, {'count': '10', 'name': 'shifters'}, {'count': '10', 'name': 'paranormal-romance'}, {'count': '5', 'name': 'romance'}, {'count': '5', 'name': 'arc'}, {'count': '4', 'name': 'carrie-ann-ryan'}, {'count': '4', 'name': 'shapeshifters'}, {'count': '3', 'name': 'series'}, {'count': '3', 'name': 'fantasy'}, {'count': '3', 'name': 'kindle'}, {'count': '2', 'name': 'to-read-paranormal'}, {'count': '2', 'name': 'favorites'}, {'count': '2', 'name': 'phoenix'}, {'count': '2', 'name': 'books-i-have'}, {'count': '2', 'name': 'nook'}, {'count': '2', 'name': '2016-books-read'}, {'count': '2', 'name': 'contemporary'}, {'count': '2', 'name': 'ebook'}, {'count': '2', 'name': 'dragons'}, {'count': '2', 'name': 'ryan-carrie-ann'}, {'count': '2', 'name': 'dantes-circle'}, {'count': '2', 'name': 'supernatural'}, {'count': '1', 'name': 'my-owned-books'}, {'count': '1', 'name': 'shapeshifters-all-species'}, {'count': '1', 'name': 'interspecies-forbidden-fated-mate'}, {'count': '1', 'name': 'fated-mates-all-kinds'}, {'count': '1', 'name': 'ttp-proj'}, {'count': '1', 'name': 'tbr-my-books-hanging-out-on-kindle'}, {'count': '1', 'name': 're-reading-worthy'}, {'count': '1', 'name': 'pnrm-pnranthologies'}, {'count': '1', 'name': 'fantasy-romance'}, {'count': '1', 'name': 'sub-genre-pnr'}, {'count': '1', 'name': 'no-thanks'}, {'count': '1', 'name': 'have-not-read'}, {'count': '1', 'name': 'f-shifters'}, {'count': '1', 'name': '0-my-library-of-books'}, {'count': '1', 'name': '0-books-w-audio-companion'}, {'count': '1', 'name': 'tbr'}, {'count': '1', 'name': 'itunes'}, {'count': '1', 'name': 'p-q-r-s'}, {'count': '1', 'name': 'pick-fantasy'}, {'count': '1', 'name': 'para-world'}, {'count': '1', 'name': 'flightsfantasy'}, {'count': '1', 'name': '1234'}, {'count': '1', 'name': '100000'}, {'count': '1', 'name': '100'}, {'count': '1', 'name': 'multi-paranormal-species'}, {'count': '1', 'name': 'i-own-a-copy'}, {'count': '1', 'name': 'dl'}, {'count': '1', 'name': 'audio'}, {'count': '1', 'name': 'fave-fantasy'}, {'count': '1', 'name': 'kindle-shelfari'}, {'count': '1', 'name': 'thriller'}, {'count': '1', 'name': 'suspense'}, {'count': '1', 'name': 'netgalley'}, {'count': '1', 'name': 'adult'}, {'count': '1', 'name': 'on-kindle'}, {'count': '1', 'name': 'book-challenge-2017'}, {'count': '1', 'name': 'werewolves'}, {'count': '1', 'name': 'uninteresting'}, {'count': '1', 'name': 'strong-heroines'}, {'count': '1', 'name': 'singel-parent'}, {'count': '1', 'name': 'gentle-hero'}, {'count': '1', 'name': 'owned'}, {'count': '1', 'name': 'pub-may'}, {'count': '1', 'name': 'secrect-baby'}, {'count': '1', 'name': 'second-chance'}, {'count': '1', 'name': 'books-from-carrie-ann'}, {'count': '1', 'name': '3-paranormal-series'}, {'count': '1', 'name': 'comptr-nook'}, {'count': '1', 'name': 'a-books-want-to-read'}, {'count': '1', 'name': 'x-pub-2016'}, {'count': '1', 'name': 'books-to-buy'}, {'count': '1', 'name': 'para-fantasy-romance'}, {'count': '1', 'name': 'kindle-ebooks-i-have-read'}, {'count': '1', 'name': 'title-p'}, {'count': '1', 'name': 'pages-100-150'}, {'count': '1', 'name': 'read-mee'}, {'count': '1', 'name': 'on-my-shelf'}, {'count': '1', 'name': 'audio-book'}, {'count': '1', 'name': 'complete-unfinished-series-owned'}, {'count': '1', 'name': 'giveaway-entry'}, {'count': '1', 'name': 'received-audio-book'}, {'count': '1', 'name': 'received'}, {'count': '1', 'name': '01-books'}, {'count': '1', 'name': 'wolves'}, {'count': '1', 'name': 'wizards'}, {'count': '1', 'name': 'succubus'}, {'count': '1', 'name': 'siren'}, {'count': '1', 'name': 'pixie'}, {'count': '1', 'name': 'n-ok'}, {'count': '1', 'name': 'n-gregory-salinas'}, {'count': '1', 'name': 'mermen'}, {'count': '1', 'name': 'lion'}, {'count': '1', 'name': 'feline'}, {'count': '1', 'name': 'fae'}, {'count': '1', 'name': 'djinn'}, {'count': '1', 'name': 'demons'}], 'asin': 'B01BLJGA9S', 'is_ebook': 'true', 'average_rating': '4.23', 'kindle_asin': 'B01BLJGA9S', 'similar_books': ['25515353', '20483269', '25650829', '18913492', '22578299', '25781561', '29518816', '20958132', '21854392', '27505924', '25205453'], 'description': '', 'format': '', 'link': 'https://www.goodreads.com/book/show/29074693-prowled-darkness', 'authors': [{'author_id': '5360266', 'role': ''}], 'publisher': '', 'num_pages': '', 'publication_day': '', 'isbn13': '', 'publication_month': '', 'edition_information': '', 'publication_year': '', 'url': 'https://www.goodreads.com/book/show/29074693-prowled-darkness', 'image_url': 'https://s.gr-assets.com/assets/nophoto/book/111x148-bcc042a9c91a29c1d680899eff700a03.png', 'book_id': '29074693', 'ratings_count': '149', 'work_id': '46079519', 'title': \"Prowled Darkness (Dante's Circle, #7)\", 'title_without_series': \"Prowled Darkness (Dante's Circle, #7)\"}, {'isbn': '1597371289', 'text_reviews_count': '8', 'series': [], 'country_code': 'US', 'language_code': 'eng', 'popular_shelves': [{'count': '16215', 'name': 'classics'}, {'count': '7070', 'name': 'to-read'}, {'count': '4564', 'name': 'fiction'}, {'count': '4279', 'name': 'favorites'}, {'count': '3125', 'name': 'romance'}, {'count': '2750', 'name': 'classic'}, {'count': '1942', 'name': 'books-i-own'}, {'count': '1503', 'name': 'owned'}, {'count': '1277', 'name': 'jane-austen'}, {'count': '996', 'name': 'historical-fiction'}, {'count': '993', 'name': 'clàssics'}, {'count': '904', 'name': 'literature'}, {'count': '665', 'name': 'historical'}, {'count': '575', 'name': 'kindle'}, {'count': '560', 'name': 'owned-books'}, {'count': '530', 'name': 'favourites'}, {'count': '497', 'name': '19th-century'}, {'count': '478', 'name': 'classic-literature'}, {'count': '445', 'name': 'british'}, {'count': '419', 'name': 'novels'}, {'count': '398', 'name': '1001-books'}, {'count': '369', 'name': 'austen'}, {'count': '350', 'name': 'currently-reading'}, {'count': '340', 'name': 'british-literature'}, {'count': '329', 'name': 'historical-romance'}, {'count': '309', 'name': 'classics-to-read'}, {'count': '305', 'name': 'adult'}, {'count': '282', 'name': 'book-club'}, {'count': '282', 'name': 'regency'}, {'count': '279', 'name': 'england'}, {'count': '269', 'name': 'to-buy'}, {'count': '265', 'name': 'english'}, {'count': '250', 'name': 'adult-fiction'}, {'count': '248', 'name': 'my-books'}, {'count': '244', 'name': 'my-library'}, {'count': '243', 'name': 'audiobook'}, {'count': '236', 'name': 'library'}, {'count': '235', 'name': 'rory-gilmore-reading-challenge'}, {'count': '235', 'name': 'chick-lit'}, {'count': '230', 'name': 'i-own'}, {'count': '219', 'name': 'default'}, {'count': '216', 'name': 'audiobooks'}, {'count': '215', 'name': 'my-ebooks'}, {'count': '207', 'name': 'classic-fiction'}, {'count': '206', 'name': '1001'}, {'count': '202', 'name': 'novel'}, {'count': '200', 'name': 'ebooks'}, {'count': '193', 'name': 're-read'}, {'count': '173', 'name': 'classic-lit'}, {'count': '171', 'name': 'english-literature'}, {'count': '170', 'name': 'school'}, {'count': '168', 'name': 'to-read-classics'}, {'count': '163', 'name': 'literary-fiction'}, {'count': '161', 'name': 'own-it'}, {'count': '152', 'name': 'audio'}, {'count': '150', 'name': 'brit-lit'}, {'count': '142', 'name': '1001-books-to-read-before-you-die'}, {'count': '140', 'name': 'all-time-favorites'}, {'count': '139', 'name': 'the-classics'}, {'count': '134', 'name': 'tbr'}, {'count': '133', 'name': 'unfinished'}, {'count': '128', 'name': 'british-lit'}, {'count': '127', 'name': 'rory-gilmore-challenge'}, {'count': '116', 'name': 'general-fiction'}, {'count': '116', 'name': 'on-my-shelf'}, {'count': '107', 'name': 'women'}, {'count': '107', 'name': 'e-book'}, {'count': '105', 'name': 'did-not-finish'}, {'count': '103', 'name': 'abandoned'}, {'count': '98', 'name': 'humor'}, {'count': '98', 'name': 'e-books'}, {'count': '97', 'name': 'rory-gilmore'}, {'count': '96', 'name': 'female-authors'}, {'count': '95', 'name': 'kindle-books'}, {'count': '94', 'name': 'romantic'}, {'count': '94', 'name': 'reread'}, {'count': '93', 'name': 'read-in-2015'}, {'count': '93', 'name': 'female-author'}, {'count': '92', 'name': 'classici'}, {'count': '91', 'name': 'favorite-books'}, {'count': '90', 'name': 'own-to-read'}, {'count': '90', 'name': 'stand-alone'}, {'count': '89', 'name': 'on-hold'}, {'count': '89', 'name': 'my-bookshelf'}, {'count': '89', 'name': 'literary'}, {'count': '88', 'name': 'home-library'}, {'count': '88', 'name': 'love'}, {'count': '85', 'name': 'to-re-read'}, {'count': '84', 'name': 'tbr-pile'}, {'count': '84', 'name': 'audio-book'}, {'count': '84', 'name': 'drama'}, {'count': '83', 'name': 'history'}, {'count': '83', 'name': 'victorian'}, {'count': '82', 'name': 'read-in-2016'}, {'count': '82', 'name': 'wish-list'}, {'count': '82', 'name': 'audio-books'}, {'count': '81', 'name': 'bookshelf'}, {'count': '80', 'name': 'read-in-2017'}, {'count': '80', 'name': 'dnf'}, {'count': '79', 'name': 'personal-library'}], 'asin': '', 'is_ebook': 'false', 'average_rating': '3.99', 'kindle_asin': 'B0083Z3O8Y', 'similar_books': ['31242', '374380', '20564', '383206', '7891', '6335178', '31175', '372811', '77395', '856190', '686278', '5797', '32110', '3102', '264', '99329', '31667'], 'description': \"The funny and heartwarming story of a young lady whose zeal, snobbishness, and self-satisfaction lead to several errors in judgment\\nEmma takes Harriet Smith, a young woman previously unknown to good society, under her wing, scheming for her advancement through an advantageous marriage. Her efforts to find Harriet a suitor occupy all of Emma's time. However, in the midst of her often fumbled attempts, she settles on a most unlikely union with her own constant critic: Mr. Knightly.\\nThis novel is part of Brilliance Audio's extensive Classic Collection, bringing you timeless masterpieces that you and your family are sure to love.\", 'format': 'Audio CD', 'link': 'https://www.goodreads.com/book/show/3209316-emma', 'authors': [{'author_id': '1265', 'role': ''}], 'publisher': 'Brilliance Audio', 'num_pages': '544', 'publication_day': '25', 'isbn13': '9781597371285', 'publication_month': '9', 'edition_information': '', 'publication_year': '2005', 'url': 'https://www.goodreads.com/book/show/3209316-emma', 'image_url': 'https://s.gr-assets.com/assets/nophoto/book/111x148-bcc042a9c91a29c1d680899eff700a03.png', 'book_id': '3209316', 'ratings_count': '42', 'work_id': '3360164', 'title': 'Emma', 'title_without_series': 'Emma'})\n"
     ]
    }
   ],
   "source": [
    "json_bag = db.read_text('goodreads_books_romance.json').map(json.loads)\n",
    "print(json_bag.take(3))"
   ]
  },
  {
   "cell_type": "code",
   "execution_count": 10,
   "id": "4e721dce-8ed5-4303-bd22-d304dc88de05",
   "metadata": {},
   "outputs": [],
   "source": [
    "rombook = json_bag.to_dataframe()"
   ]
  },
  {
   "cell_type": "code",
   "execution_count": 11,
   "id": "0979087d-6441-462d-bb81-7e50bf473da9",
   "metadata": {},
   "outputs": [],
   "source": [
    "rombook = rombook.compute()"
   ]
  },
  {
   "cell_type": "code",
   "execution_count": 12,
   "id": "3d4a8da6-cdd4-46c9-b24a-cde5b5e542a6",
   "metadata": {},
   "outputs": [
    {
     "name": "stdout",
     "output_type": "stream",
     "text": [
      "<class 'pandas.core.frame.DataFrame'>\n",
      "RangeIndex: 335449 entries, 0 to 335448\n",
      "Data columns (total 29 columns):\n",
      " #   Column                Non-Null Count   Dtype \n",
      "---  ------                --------------   ----- \n",
      " 0   isbn                  335449 non-null  object\n",
      " 1   text_reviews_count    335449 non-null  object\n",
      " 2   series                335449 non-null  object\n",
      " 3   country_code          335449 non-null  object\n",
      " 4   language_code         335449 non-null  object\n",
      " 5   popular_shelves       335449 non-null  object\n",
      " 6   asin                  335449 non-null  object\n",
      " 7   is_ebook              335449 non-null  object\n",
      " 8   average_rating        335449 non-null  object\n",
      " 9   kindle_asin           335449 non-null  object\n",
      " 10  similar_books         335449 non-null  object\n",
      " 11  description           335449 non-null  object\n",
      " 12  format                335449 non-null  object\n",
      " 13  link                  335449 non-null  object\n",
      " 14  authors               335449 non-null  object\n",
      " 15  publisher             335449 non-null  object\n",
      " 16  num_pages             335449 non-null  object\n",
      " 17  publication_day       335449 non-null  object\n",
      " 18  isbn13                335449 non-null  object\n",
      " 19  publication_month     335449 non-null  object\n",
      " 20  edition_information   335449 non-null  object\n",
      " 21  publication_year      335449 non-null  object\n",
      " 22  url                   335449 non-null  object\n",
      " 23  image_url             335449 non-null  object\n",
      " 24  book_id               335449 non-null  object\n",
      " 25  ratings_count         335449 non-null  object\n",
      " 26  work_id               335449 non-null  object\n",
      " 27  title                 335449 non-null  object\n",
      " 28  title_without_series  335449 non-null  object\n",
      "dtypes: object(29)\n",
      "memory usage: 74.2+ MB\n"
     ]
    }
   ],
   "source": [
    "rombook.info()"
   ]
  },
  {
   "cell_type": "code",
   "execution_count": 13,
   "id": "aa5d02d5-9921-4838-8082-5189204de1ca",
   "metadata": {},
   "outputs": [],
   "source": [
    "#rom_authors = pd.read_csv('goodreads_rombook_data.csv')\n",
    "#rom_authors.head()"
   ]
  },
  {
   "cell_type": "code",
   "execution_count": 14,
   "id": "ff23e558-55b2-4406-a973-a83dea8a5e7a",
   "metadata": {},
   "outputs": [],
   "source": [
    "#rom_authors.info()"
   ]
  },
  {
   "cell_type": "code",
   "execution_count": 15,
   "id": "74970dd5-83af-4628-857c-60e1aa1f7f15",
   "metadata": {},
   "outputs": [
    {
     "name": "stdout",
     "output_type": "stream",
     "text": [
      "['series', 'popular_shelves', 'similar_books', 'authors']\n"
     ]
    }
   ],
   "source": [
    "nested_cols = [col for col in rombook.columns if rombook[col].apply(lambda x: isinstance(x, (dict, list))).any()]\n",
    "print(nested_cols)"
   ]
  },
  {
   "cell_type": "code",
   "execution_count": 16,
   "id": "b14c3fe3-261d-4d8f-8996-d049491914e2",
   "metadata": {},
   "outputs": [],
   "source": [
    "#Step 1: Extract the nested columns\n",
    "rom_authors_exploded = rombook.explode(['authors'], ignore_index=True)\n",
    "# Step 2: Convert dicts to columns\n",
    "rom_authors_expanded = pd.concat([rom_authors_exploded.drop(columns=['authors']),\n",
    "                         rom_authors_exploded['authors'].apply(pd.Series)], axis=1)"
   ]
  },
  {
   "cell_type": "code",
   "execution_count": 17,
   "id": "1101c74a-6d32-4875-8d1a-2555e3195bc7",
   "metadata": {},
   "outputs": [
    {
     "data": {
      "text/html": [
       "<div>\n",
       "<style scoped>\n",
       "    .dataframe tbody tr th:only-of-type {\n",
       "        vertical-align: middle;\n",
       "    }\n",
       "\n",
       "    .dataframe tbody tr th {\n",
       "        vertical-align: top;\n",
       "    }\n",
       "\n",
       "    .dataframe thead th {\n",
       "        text-align: right;\n",
       "    }\n",
       "</style>\n",
       "<table border=\"1\" class=\"dataframe\">\n",
       "  <thead>\n",
       "    <tr style=\"text-align: right;\">\n",
       "      <th></th>\n",
       "      <th>isbn</th>\n",
       "      <th>text_reviews_count</th>\n",
       "      <th>series</th>\n",
       "      <th>country_code</th>\n",
       "      <th>language_code</th>\n",
       "      <th>popular_shelves</th>\n",
       "      <th>asin</th>\n",
       "      <th>is_ebook</th>\n",
       "      <th>average_rating</th>\n",
       "      <th>kindle_asin</th>\n",
       "      <th>...</th>\n",
       "      <th>publication_year</th>\n",
       "      <th>url</th>\n",
       "      <th>image_url</th>\n",
       "      <th>book_id</th>\n",
       "      <th>ratings_count</th>\n",
       "      <th>work_id</th>\n",
       "      <th>title</th>\n",
       "      <th>title_without_series</th>\n",
       "      <th>author_id</th>\n",
       "      <th>role</th>\n",
       "    </tr>\n",
       "  </thead>\n",
       "  <tbody>\n",
       "    <tr>\n",
       "      <th>0</th>\n",
       "      <td></td>\n",
       "      <td>4</td>\n",
       "      <td>[]</td>\n",
       "      <td>US</td>\n",
       "      <td></td>\n",
       "      <td>[{'count': '4', 'name': 'to-read'}, {'count': ...</td>\n",
       "      <td></td>\n",
       "      <td>true</td>\n",
       "      <td>3.86</td>\n",
       "      <td></td>\n",
       "      <td>...</td>\n",
       "      <td>2017</td>\n",
       "      <td>https://www.goodreads.com/book/show/34883016-p...</td>\n",
       "      <td>https://images.gr-assets.com/books/1493525974m...</td>\n",
       "      <td>34883016</td>\n",
       "      <td>5</td>\n",
       "      <td>56135087</td>\n",
       "      <td>Playmaker: A Venom Series Novella</td>\n",
       "      <td>Playmaker: A Venom Series Novella</td>\n",
       "      <td>5807700</td>\n",
       "      <td></td>\n",
       "    </tr>\n",
       "    <tr>\n",
       "      <th>1</th>\n",
       "      <td></td>\n",
       "      <td>21</td>\n",
       "      <td>[811663]</td>\n",
       "      <td>US</td>\n",
       "      <td>en-US</td>\n",
       "      <td>[{'count': '598', 'name': 'to-read'}, {'count'...</td>\n",
       "      <td>B01BLJGA9S</td>\n",
       "      <td>true</td>\n",
       "      <td>4.23</td>\n",
       "      <td>B01BLJGA9S</td>\n",
       "      <td>...</td>\n",
       "      <td></td>\n",
       "      <td>https://www.goodreads.com/book/show/29074693-p...</td>\n",
       "      <td>https://s.gr-assets.com/assets/nophoto/book/11...</td>\n",
       "      <td>29074693</td>\n",
       "      <td>149</td>\n",
       "      <td>46079519</td>\n",
       "      <td>Prowled Darkness (Dante's Circle, #7)</td>\n",
       "      <td>Prowled Darkness (Dante's Circle, #7)</td>\n",
       "      <td>5360266</td>\n",
       "      <td></td>\n",
       "    </tr>\n",
       "    <tr>\n",
       "      <th>2</th>\n",
       "      <td>1597371289</td>\n",
       "      <td>8</td>\n",
       "      <td>[]</td>\n",
       "      <td>US</td>\n",
       "      <td>eng</td>\n",
       "      <td>[{'count': '16215', 'name': 'classics'}, {'cou...</td>\n",
       "      <td></td>\n",
       "      <td>false</td>\n",
       "      <td>3.99</td>\n",
       "      <td>B0083Z3O8Y</td>\n",
       "      <td>...</td>\n",
       "      <td>2005</td>\n",
       "      <td>https://www.goodreads.com/book/show/3209316-emma</td>\n",
       "      <td>https://s.gr-assets.com/assets/nophoto/book/11...</td>\n",
       "      <td>3209316</td>\n",
       "      <td>42</td>\n",
       "      <td>3360164</td>\n",
       "      <td>Emma</td>\n",
       "      <td>Emma</td>\n",
       "      <td>1265</td>\n",
       "      <td></td>\n",
       "    </tr>\n",
       "    <tr>\n",
       "      <th>3</th>\n",
       "      <td></td>\n",
       "      <td>27</td>\n",
       "      <td>[938303]</td>\n",
       "      <td>US</td>\n",
       "      <td>en-GB</td>\n",
       "      <td>[{'count': '25', 'name': 'to-read'}, {'count':...</td>\n",
       "      <td>B01HX6PENG</td>\n",
       "      <td>true</td>\n",
       "      <td>4.31</td>\n",
       "      <td>B01HX6PENG</td>\n",
       "      <td>...</td>\n",
       "      <td></td>\n",
       "      <td>https://www.goodreads.com/book/show/30838933-g...</td>\n",
       "      <td>https://s.gr-assets.com/assets/nophoto/book/11...</td>\n",
       "      <td>30838933</td>\n",
       "      <td>139</td>\n",
       "      <td>51437308</td>\n",
       "      <td>Guardian Cougar (Finding Fatherhood, #2)</td>\n",
       "      <td>Guardian Cougar (Finding Fatherhood, #2)</td>\n",
       "      <td>90411</td>\n",
       "      <td></td>\n",
       "    </tr>\n",
       "    <tr>\n",
       "      <th>4</th>\n",
       "      <td></td>\n",
       "      <td>27</td>\n",
       "      <td>[938303]</td>\n",
       "      <td>US</td>\n",
       "      <td>en-GB</td>\n",
       "      <td>[{'count': '25', 'name': 'to-read'}, {'count':...</td>\n",
       "      <td>B01HX6PENG</td>\n",
       "      <td>true</td>\n",
       "      <td>4.31</td>\n",
       "      <td>B01HX6PENG</td>\n",
       "      <td>...</td>\n",
       "      <td></td>\n",
       "      <td>https://www.goodreads.com/book/show/30838933-g...</td>\n",
       "      <td>https://s.gr-assets.com/assets/nophoto/book/11...</td>\n",
       "      <td>30838933</td>\n",
       "      <td>139</td>\n",
       "      <td>51437308</td>\n",
       "      <td>Guardian Cougar (Finding Fatherhood, #2)</td>\n",
       "      <td>Guardian Cougar (Finding Fatherhood, #2)</td>\n",
       "      <td>14356708</td>\n",
       "      <td></td>\n",
       "    </tr>\n",
       "  </tbody>\n",
       "</table>\n",
       "<p>5 rows × 30 columns</p>\n",
       "</div>"
      ],
      "text/plain": [
       "         isbn text_reviews_count    series country_code language_code  \\\n",
       "0                              4        []           US                 \n",
       "1                             21  [811663]           US         en-US   \n",
       "2  1597371289                  8        []           US           eng   \n",
       "3                             27  [938303]           US         en-GB   \n",
       "4                             27  [938303]           US         en-GB   \n",
       "\n",
       "                                     popular_shelves        asin is_ebook  \\\n",
       "0  [{'count': '4', 'name': 'to-read'}, {'count': ...                 true   \n",
       "1  [{'count': '598', 'name': 'to-read'}, {'count'...  B01BLJGA9S     true   \n",
       "2  [{'count': '16215', 'name': 'classics'}, {'cou...                false   \n",
       "3  [{'count': '25', 'name': 'to-read'}, {'count':...  B01HX6PENG     true   \n",
       "4  [{'count': '25', 'name': 'to-read'}, {'count':...  B01HX6PENG     true   \n",
       "\n",
       "  average_rating kindle_asin  ... publication_year  \\\n",
       "0           3.86              ...             2017   \n",
       "1           4.23  B01BLJGA9S  ...                    \n",
       "2           3.99  B0083Z3O8Y  ...             2005   \n",
       "3           4.31  B01HX6PENG  ...                    \n",
       "4           4.31  B01HX6PENG  ...                    \n",
       "\n",
       "                                                 url  \\\n",
       "0  https://www.goodreads.com/book/show/34883016-p...   \n",
       "1  https://www.goodreads.com/book/show/29074693-p...   \n",
       "2   https://www.goodreads.com/book/show/3209316-emma   \n",
       "3  https://www.goodreads.com/book/show/30838933-g...   \n",
       "4  https://www.goodreads.com/book/show/30838933-g...   \n",
       "\n",
       "                                           image_url   book_id ratings_count  \\\n",
       "0  https://images.gr-assets.com/books/1493525974m...  34883016             5   \n",
       "1  https://s.gr-assets.com/assets/nophoto/book/11...  29074693           149   \n",
       "2  https://s.gr-assets.com/assets/nophoto/book/11...   3209316            42   \n",
       "3  https://s.gr-assets.com/assets/nophoto/book/11...  30838933           139   \n",
       "4  https://s.gr-assets.com/assets/nophoto/book/11...  30838933           139   \n",
       "\n",
       "    work_id                                     title  \\\n",
       "0  56135087         Playmaker: A Venom Series Novella   \n",
       "1  46079519     Prowled Darkness (Dante's Circle, #7)   \n",
       "2   3360164                                      Emma   \n",
       "3  51437308  Guardian Cougar (Finding Fatherhood, #2)   \n",
       "4  51437308  Guardian Cougar (Finding Fatherhood, #2)   \n",
       "\n",
       "                       title_without_series author_id role  \n",
       "0         Playmaker: A Venom Series Novella   5807700       \n",
       "1     Prowled Darkness (Dante's Circle, #7)   5360266       \n",
       "2                                      Emma      1265       \n",
       "3  Guardian Cougar (Finding Fatherhood, #2)     90411       \n",
       "4  Guardian Cougar (Finding Fatherhood, #2)  14356708       \n",
       "\n",
       "[5 rows x 30 columns]"
      ]
     },
     "execution_count": 17,
     "metadata": {},
     "output_type": "execute_result"
    }
   ],
   "source": [
    "rom_authors_expanded.head()"
   ]
  },
  {
   "cell_type": "code",
   "execution_count": 18,
   "id": "0daef1ba-a184-4010-8f9a-f28d2c952ad2",
   "metadata": {},
   "outputs": [
    {
     "name": "stdout",
     "output_type": "stream",
     "text": [
      "<class 'pandas.core.frame.DataFrame'>\n",
      "RangeIndex: 401040 entries, 0 to 401039\n",
      "Data columns (total 30 columns):\n",
      " #   Column                Non-Null Count   Dtype \n",
      "---  ------                --------------   ----- \n",
      " 0   isbn                  401040 non-null  object\n",
      " 1   text_reviews_count    401040 non-null  object\n",
      " 2   series                401040 non-null  object\n",
      " 3   country_code          401040 non-null  object\n",
      " 4   language_code         401040 non-null  object\n",
      " 5   popular_shelves       401040 non-null  object\n",
      " 6   asin                  401040 non-null  object\n",
      " 7   is_ebook              401040 non-null  object\n",
      " 8   average_rating        401040 non-null  object\n",
      " 9   kindle_asin           401040 non-null  object\n",
      " 10  similar_books         401040 non-null  object\n",
      " 11  description           401040 non-null  object\n",
      " 12  format                401040 non-null  object\n",
      " 13  link                  401040 non-null  object\n",
      " 14  publisher             401040 non-null  object\n",
      " 15  num_pages             401040 non-null  object\n",
      " 16  publication_day       401040 non-null  object\n",
      " 17  isbn13                401040 non-null  object\n",
      " 18  publication_month     401040 non-null  object\n",
      " 19  edition_information   401040 non-null  object\n",
      " 20  publication_year      401040 non-null  object\n",
      " 21  url                   401040 non-null  object\n",
      " 22  image_url             401040 non-null  object\n",
      " 23  book_id               401040 non-null  object\n",
      " 24  ratings_count         401040 non-null  object\n",
      " 25  work_id               401040 non-null  object\n",
      " 26  title                 401040 non-null  object\n",
      " 27  title_without_series  401040 non-null  object\n",
      " 28  author_id             401040 non-null  object\n",
      " 29  role                  401040 non-null  object\n",
      "dtypes: object(30)\n",
      "memory usage: 91.8+ MB\n"
     ]
    }
   ],
   "source": [
    "rom_authors_expanded.info()"
   ]
  },
  {
   "cell_type": "code",
   "execution_count": 19,
   "id": "f992d707-27ab-4049-8194-9e28ae1d31e0",
   "metadata": {},
   "outputs": [],
   "source": [
    "rom_authors_expanded.to_csv('rom_books.csv')"
   ]
  }
 ],
 "metadata": {
  "kernelspec": {
   "display_name": "Python [conda env:base] *",
   "language": "python",
   "name": "conda-base-py"
  },
  "language_info": {
   "codemirror_mode": {
    "name": "ipython",
    "version": 3
   },
   "file_extension": ".py",
   "mimetype": "text/x-python",
   "name": "python",
   "nbconvert_exporter": "python",
   "pygments_lexer": "ipython3",
   "version": "3.13.5"
  }
 },
 "nbformat": 4,
 "nbformat_minor": 5
}
