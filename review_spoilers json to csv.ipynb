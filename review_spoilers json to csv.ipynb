{
 "cells": [
  {
   "cell_type": "code",
   "execution_count": 1,
   "id": "b3a7572e-ba61-477d-85da-350e18b830ed",
   "metadata": {},
   "outputs": [
    {
     "name": "stdout",
     "output_type": "stream",
     "text": [
      "Requirement already satisfied: dask in /opt/anaconda3/lib/python3.13/site-packages (2025.2.0)\n",
      "Requirement already satisfied: click>=8.1 in /opt/anaconda3/lib/python3.13/site-packages (from dask) (8.1.8)\n",
      "Requirement already satisfied: cloudpickle>=3.0.0 in /opt/anaconda3/lib/python3.13/site-packages (from dask) (3.0.0)\n",
      "Requirement already satisfied: fsspec>=2021.09.0 in /opt/anaconda3/lib/python3.13/site-packages (from dask) (2025.3.2)\n",
      "Requirement already satisfied: packaging>=20.0 in /opt/anaconda3/lib/python3.13/site-packages (from dask) (24.2)\n",
      "Requirement already satisfied: partd>=1.4.0 in /opt/anaconda3/lib/python3.13/site-packages (from dask) (1.4.2)\n",
      "Requirement already satisfied: pyyaml>=5.3.1 in /opt/anaconda3/lib/python3.13/site-packages (from dask) (6.0.2)\n",
      "Requirement already satisfied: toolz>=0.10.0 in /opt/anaconda3/lib/python3.13/site-packages (from dask) (1.0.0)\n",
      "Requirement already satisfied: locket in /opt/anaconda3/lib/python3.13/site-packages (from partd>=1.4.0->dask) (1.0.0)\n",
      "Note: you may need to restart the kernel to use updated packages.\n"
     ]
    }
   ],
   "source": [
    "pip install dask"
   ]
  },
  {
   "cell_type": "code",
   "execution_count": 2,
   "id": "f5767244-8059-403e-9a7a-09e1933f05dc",
   "metadata": {},
   "outputs": [],
   "source": [
    "import pandas as pd\n",
    "import matplotlib.pyplot as plt\n",
    "import datetime as dt\n",
    "from datetime import datetime, timedelta, date\n",
    "import numpy as np\n",
    "import warnings\n",
    "warnings.filterwarnings('ignore')\n",
    "import sqlite3\n",
    "import dask.bag as db\n",
    "import json\n",
    "import dask.dataframe as dd"
   ]
  },
  {
   "cell_type": "code",
   "execution_count": 13,
   "id": "5768d454-f7a5-4cec-8f6e-1b9536d91b4a",
   "metadata": {},
   "outputs": [
    {
     "name": "stdout",
     "output_type": "stream",
     "text": [
      "({'user_id': '8842281e1d1347389f2ab93d60773d4d', 'timestamp': '2017-08-30', 'review_sentences': [[0, 'This is a special book.'], [0, 'It started slow for about the first third, then in the middle third it started to get interesting, then the last third blew my mind.'], [0, 'This is what I love about good science fiction - it pushes your thinking about where things can go.'], [0, \"It is a 2015 Hugo winner, and translated from its original Chinese, which made it interesting in just a different way from most things I've read.\"], [0, 'For instance the intermixing of Chinese revolutionary history - how they kept accusing people of being \"reactionaries\", etc.'], [0, 'It is a book about science, and aliens.'], [0, 'The science described in the book is impressive - its a book grounded in physics and pretty accurate as far as I could tell.'], [1, 'Though when it got to folding protons into 8 dimensions I think he was just making stuff up - interesting to think about though.'], [1, 'But what would happen if our SETI stations received a message - if we found someone was out there - and the person monitoring and answering the signal on our side was disillusioned?'], [1, 'That part of the book was a bit dark - I would like to think human reaction to discovering alien civilization that is hostile would be more like Enders Game where we would band together.'], [1, 'I did like how the book unveiled the Trisolaran culture through the game.'], [1, \"It was a smart way to build empathy with them and also understand what they've gone through across so many centuries.\"], [1, 'And who know a 3 body problem was an unsolvable math problem?'], [1, \"But I still don't get who made the game - maybe that will come in the next book.\"], [1, 'I loved this quote:'], [1, '\"In the long history of scientific progress, how many protons have been smashed apart in accelerators by physicists?'], [1, 'How many neutrons and electrons?'], [1, 'Probably no fewer than a hundred million.'], [1, 'Every collision was probably the end of the civilizations and intelligences in a microcosmos.'], [1, 'In fact, even in nature, the destruction of universes must be happening at every second--for example, through the decay of neutrons.'], [1, 'Also, a high-energy cosmic ray entering the atmosphere may destroy thousands of such miniature universes....\"']], 'rating': 5, 'has_spoiler': True, 'book_id': '18245960', 'review_id': 'dfdbb7b0eb5a7e4c26d59a937e2e5feb'}, {'user_id': '8842281e1d1347389f2ab93d60773d4d', 'timestamp': '2017-03-22', 'review_sentences': [[0, 'Recommended by Don Katz.'], [0, 'Avail for free in December: http://www.audible.com/mt/ellison2?so...']], 'rating': 3, 'has_spoiler': False, 'book_id': '16981', 'review_id': 'a5d2c3628987712d0e05c4f90798eb67'}, {'user_id': '8842281e1d1347389f2ab93d60773d4d', 'timestamp': '2017-03-20', 'review_sentences': [[0, 'A fun, fast paced science fiction thriller.'], [0, \"I read it in 2 nights and couldn't put it down.\"], [0, 'The book is about the quantum theory of many worlds which states that all decisions we make throughout our lives basically create branches, and that each possible path through the decision tree can be thought of as a parallel world.'], [0, 'And in this book, someone invents a way to switch between these worlds.'], [0, 'This was nicely alluded to/foreshadowed in this quote:'], [0, '\"I think about all the choices we\\'ve made that created this moment.'], [0, 'Us sitting here together at this beautiful table.'], [0, 'Then I think of all the possible events that could have stopped this moment from ever happening, and it all feels, I don\\'t know...\" \"What?\"'], [0, '\"So fragile.\"'], [0, 'Now he becomes thoughtful for a moment.'], [0, 'He says finally, \"It\\'s terrifying when you consider that every thought we have, every choice we could possibly make, branches into a new world.\"'], [1, \"This book can't be discussed without spoilers.\"], [1, 'It is a book about choice and regret.'], [1, 'Ever regret not chasing the girl of your dreams so you can focus on your career?'], [1, 'Well Jason2 made that choice and then did regret it.'], [1, 'Clearly the author is trying to tell us to optimize for happiness - to be that second rate physics teacher at a community college if it means you can have a happy life.'], [1, \"I'm being snarky because while there is certainly something to that, you also have to have meaning in your life that comes from within.\"], [1, 'I thought the book was a little shallow on this dimension.'], [1, 'In fact, all the characters were fairly shallow.'], [1, 'Daniela was the perfect wife.'], [1, 'Ryan the perfect antithesis of Jason.'], [1, 'Amanda the perfect loyal traveling companion, etc.'], [1, \"This, plus the fact that the book was weak on the science are what led me to take a few stars off - but I'd still read it again if I could go back in time - was a very fun and engaging read.\"], [1, 'If you want to really minimize regret, you have to live your life to avoid it in the first place.'], [1, \"Regret can't be hacked, which is kind of the point of the book.\"], [1, 'My favorite book about regret is Remains of the Day.'], [1, 'I do really like the visualization of the decision tree though - that is a powerful concept.'], [1, '\"Every moment, every breath, contains a choice.'], [1, 'But life is imperfect.'], [1, 'We make the wrong choices.'], [1, 'So we end up living in a state of perpetual regret, and is there anything worse?'], [1, 'I built something that could actually eradicate regret.'], [1, 'Let you find worlds where you made the right choice.\"'], [1, 'Daniela says, \"Life doesn\\'t work that way.'], [1, 'You live with your choices and learn.'], [1, 'You don\\'t cheat the system.\"']], 'rating': 3, 'has_spoiler': True, 'book_id': '28684704', 'review_id': '2ede853b14dc4583f96cf5d120af636f'})\n"
     ]
    }
   ],
   "source": [
    "json_bag = db.read_text('goodreads_reviews_spoiler.json').map(json.loads)\n",
    "print(json_bag.take(3))"
   ]
  },
  {
   "cell_type": "code",
   "execution_count": 14,
   "id": "0d99cbfc-ea70-41b7-9378-fa8fee50bbf2",
   "metadata": {},
   "outputs": [],
   "source": [
    "df = json_bag.to_dataframe()"
   ]
  },
  {
   "cell_type": "code",
   "execution_count": 15,
   "id": "d2851761-bb41-469d-b707-84e8544aa798",
   "metadata": {},
   "outputs": [],
   "source": [
    "df = df.compute()"
   ]
  },
  {
   "cell_type": "code",
   "execution_count": 16,
   "id": "837bed4e-7709-4d3a-8053-5495544c4f88",
   "metadata": {},
   "outputs": [
    {
     "name": "stdout",
     "output_type": "stream",
     "text": [
      "<class 'pandas.core.frame.DataFrame'>\n",
      "RangeIndex: 1378033 entries, 0 to 1378032\n",
      "Data columns (total 7 columns):\n",
      " #   Column            Non-Null Count    Dtype \n",
      "---  ------            --------------    ----- \n",
      " 0   user_id           1378033 non-null  object\n",
      " 1   timestamp         1378033 non-null  object\n",
      " 2   review_sentences  1378033 non-null  object\n",
      " 3   rating            1378033 non-null  int64 \n",
      " 4   has_spoiler       1378033 non-null  bool  \n",
      " 5   book_id           1378033 non-null  object\n",
      " 6   review_id         1378033 non-null  object\n",
      "dtypes: bool(1), int64(1), object(5)\n",
      "memory usage: 64.4+ MB\n"
     ]
    }
   ],
   "source": [
    "df.info()"
   ]
  },
  {
   "cell_type": "code",
   "execution_count": 17,
   "id": "15a78a1b-8816-4cfa-84e6-01d986259540",
   "metadata": {},
   "outputs": [
    {
     "data": {
      "text/html": [
       "<div>\n",
       "<style scoped>\n",
       "    .dataframe tbody tr th:only-of-type {\n",
       "        vertical-align: middle;\n",
       "    }\n",
       "\n",
       "    .dataframe tbody tr th {\n",
       "        vertical-align: top;\n",
       "    }\n",
       "\n",
       "    .dataframe thead th {\n",
       "        text-align: right;\n",
       "    }\n",
       "</style>\n",
       "<table border=\"1\" class=\"dataframe\">\n",
       "  <thead>\n",
       "    <tr style=\"text-align: right;\">\n",
       "      <th></th>\n",
       "      <th>user_id</th>\n",
       "      <th>timestamp</th>\n",
       "      <th>review_sentences</th>\n",
       "      <th>rating</th>\n",
       "      <th>has_spoiler</th>\n",
       "      <th>book_id</th>\n",
       "      <th>review_id</th>\n",
       "    </tr>\n",
       "  </thead>\n",
       "  <tbody>\n",
       "    <tr>\n",
       "      <th>290897</th>\n",
       "      <td>712a237a940f0f258f8ec6c30baa704e</td>\n",
       "      <td>2016-03-28</td>\n",
       "      <td>[[0, Deeply moving, interesting and inspiratio...</td>\n",
       "      <td>5</td>\n",
       "      <td>False</td>\n",
       "      <td>18075234</td>\n",
       "      <td>59c8f1b1df5880684906bf25d2a38c7b</td>\n",
       "    </tr>\n",
       "    <tr>\n",
       "      <th>1005116</th>\n",
       "      <td>9013bc84fd52ec51c495868add64df33</td>\n",
       "      <td>2016-10-31</td>\n",
       "      <td>[[0, Read all my reviews on http://urlphantomh...</td>\n",
       "      <td>3</td>\n",
       "      <td>False</td>\n",
       "      <td>26539618</td>\n",
       "      <td>c225f692aa91edd3d17c0d620708bed9</td>\n",
       "    </tr>\n",
       "    <tr>\n",
       "      <th>660949</th>\n",
       "      <td>7d6d913859b8bc4ed9839552eea8e153</td>\n",
       "      <td>2015-08-23</td>\n",
       "      <td>[[0, Overall, great book!], [0, There is a plo...</td>\n",
       "      <td>4</td>\n",
       "      <td>False</td>\n",
       "      <td>11235712</td>\n",
       "      <td>f07122f8c532d66ee1c6e4ad07d454d4</td>\n",
       "    </tr>\n",
       "    <tr>\n",
       "      <th>52763</th>\n",
       "      <td>01123b14590a1ac22fe172aab20129a3</td>\n",
       "      <td>2007-06-15</td>\n",
       "      <td>[[0, There were two books in my school career ...</td>\n",
       "      <td>1</td>\n",
       "      <td>False</td>\n",
       "      <td>7144</td>\n",
       "      <td>798f2607f5d713dcdf2a0e8bd7b5135e</td>\n",
       "    </tr>\n",
       "    <tr>\n",
       "      <th>296311</th>\n",
       "      <td>9438b4294548dd717c17ee51eaf55723</td>\n",
       "      <td>2013-03-20</td>\n",
       "      <td>[[0, Worth reading, but I personally think thi...</td>\n",
       "      <td>3</td>\n",
       "      <td>False</td>\n",
       "      <td>88071</td>\n",
       "      <td>9c29ee585b70a16ada6ba737a156cbdd</td>\n",
       "    </tr>\n",
       "    <tr>\n",
       "      <th>1073179</th>\n",
       "      <td>d66e9a82484daf4d0b5c94c6df468c6c</td>\n",
       "      <td>2011-07-10</td>\n",
       "      <td>[[0, I find the series refreshing despite nume...</td>\n",
       "      <td>4</td>\n",
       "      <td>False</td>\n",
       "      <td>6693332</td>\n",
       "      <td>8777ff024d30a3cd49fff7512f503813</td>\n",
       "    </tr>\n",
       "    <tr>\n",
       "      <th>965918</th>\n",
       "      <td>c1aba9f60a0aca9cdce48cbb9cef5848</td>\n",
       "      <td>2013-01-22</td>\n",
       "      <td>[[0, Review first appeared on my blog: Book Ad...</td>\n",
       "      <td>5</td>\n",
       "      <td>False</td>\n",
       "      <td>13561164</td>\n",
       "      <td>2dee58d8cfc55991ea424b37e7565237</td>\n",
       "    </tr>\n",
       "    <tr>\n",
       "      <th>966796</th>\n",
       "      <td>fee11d85dc5db3b04883d04ff1537bc8</td>\n",
       "      <td>2015-04-11</td>\n",
       "      <td>[[0, Dark and twisted, but I loved it!]]</td>\n",
       "      <td>5</td>\n",
       "      <td>False</td>\n",
       "      <td>21400356</td>\n",
       "      <td>b1bf6099400cb05fac7dd0e214f4d133</td>\n",
       "    </tr>\n",
       "    <tr>\n",
       "      <th>534912</th>\n",
       "      <td>b10a4a0cb4a21cd6975662dd9369196c</td>\n",
       "      <td>2016-08-07</td>\n",
       "      <td>[[0, I enjoyed this compilation of short stori...</td>\n",
       "      <td>4</td>\n",
       "      <td>False</td>\n",
       "      <td>7779059</td>\n",
       "      <td>cb4cf06245d3703cc282d1a26a6cc243</td>\n",
       "    </tr>\n",
       "    <tr>\n",
       "      <th>38769</th>\n",
       "      <td>7664619a367b35f137d471b0898da7b9</td>\n",
       "      <td>2014-05-06</td>\n",
       "      <td>[[0, This was pretty great.], [0, I LOVED the ...</td>\n",
       "      <td>4</td>\n",
       "      <td>False</td>\n",
       "      <td>18209454</td>\n",
       "      <td>82983a44b43bfddedf5f12ed31098671</td>\n",
       "    </tr>\n",
       "  </tbody>\n",
       "</table>\n",
       "</div>"
      ],
      "text/plain": [
       "                                  user_id   timestamp  \\\n",
       "290897   712a237a940f0f258f8ec6c30baa704e  2016-03-28   \n",
       "1005116  9013bc84fd52ec51c495868add64df33  2016-10-31   \n",
       "660949   7d6d913859b8bc4ed9839552eea8e153  2015-08-23   \n",
       "52763    01123b14590a1ac22fe172aab20129a3  2007-06-15   \n",
       "296311   9438b4294548dd717c17ee51eaf55723  2013-03-20   \n",
       "1073179  d66e9a82484daf4d0b5c94c6df468c6c  2011-07-10   \n",
       "965918   c1aba9f60a0aca9cdce48cbb9cef5848  2013-01-22   \n",
       "966796   fee11d85dc5db3b04883d04ff1537bc8  2015-04-11   \n",
       "534912   b10a4a0cb4a21cd6975662dd9369196c  2016-08-07   \n",
       "38769    7664619a367b35f137d471b0898da7b9  2014-05-06   \n",
       "\n",
       "                                          review_sentences  rating  \\\n",
       "290897   [[0, Deeply moving, interesting and inspiratio...       5   \n",
       "1005116  [[0, Read all my reviews on http://urlphantomh...       3   \n",
       "660949   [[0, Overall, great book!], [0, There is a plo...       4   \n",
       "52763    [[0, There were two books in my school career ...       1   \n",
       "296311   [[0, Worth reading, but I personally think thi...       3   \n",
       "1073179  [[0, I find the series refreshing despite nume...       4   \n",
       "965918   [[0, Review first appeared on my blog: Book Ad...       5   \n",
       "966796            [[0, Dark and twisted, but I loved it!]]       5   \n",
       "534912   [[0, I enjoyed this compilation of short stori...       4   \n",
       "38769    [[0, This was pretty great.], [0, I LOVED the ...       4   \n",
       "\n",
       "         has_spoiler   book_id                         review_id  \n",
       "290897         False  18075234  59c8f1b1df5880684906bf25d2a38c7b  \n",
       "1005116        False  26539618  c225f692aa91edd3d17c0d620708bed9  \n",
       "660949         False  11235712  f07122f8c532d66ee1c6e4ad07d454d4  \n",
       "52763          False      7144  798f2607f5d713dcdf2a0e8bd7b5135e  \n",
       "296311         False     88071  9c29ee585b70a16ada6ba737a156cbdd  \n",
       "1073179        False   6693332  8777ff024d30a3cd49fff7512f503813  \n",
       "965918         False  13561164  2dee58d8cfc55991ea424b37e7565237  \n",
       "966796         False  21400356  b1bf6099400cb05fac7dd0e214f4d133  \n",
       "534912         False   7779059  cb4cf06245d3703cc282d1a26a6cc243  \n",
       "38769          False  18209454  82983a44b43bfddedf5f12ed31098671  "
      ]
     },
     "execution_count": 17,
     "metadata": {},
     "output_type": "execute_result"
    }
   ],
   "source": [
    "df.sample(10)"
   ]
  },
  {
   "cell_type": "code",
   "execution_count": 18,
   "id": "23c64158-2c8b-45cf-b4a4-4a97b0551379",
   "metadata": {},
   "outputs": [],
   "source": [
    "df.to_csv('review_spoilers.csv')"
   ]
  },
  {
   "cell_type": "code",
   "execution_count": null,
   "id": "cadd2e9a-a403-4ee6-8743-a2c0109a6fbc",
   "metadata": {},
   "outputs": [],
   "source": []
  }
 ],
 "metadata": {
  "kernelspec": {
   "display_name": "Python [conda env:base] *",
   "language": "python",
   "name": "conda-base-py"
  },
  "language_info": {
   "codemirror_mode": {
    "name": "ipython",
    "version": 3
   },
   "file_extension": ".py",
   "mimetype": "text/x-python",
   "name": "python",
   "nbconvert_exporter": "python",
   "pygments_lexer": "ipython3",
   "version": "3.13.5"
  }
 },
 "nbformat": 4,
 "nbformat_minor": 5
}
